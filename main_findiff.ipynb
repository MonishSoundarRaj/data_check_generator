{
  "cells": [
    {
      "cell_type": "markdown",
      "metadata": {
        "id": "view-in-github",
        "colab_type": "text"
      },
      "source": [
        "<a href=\"https://colab.research.google.com/github/MonishSoundarRaj/data_check_generator/blob/main/main_findiff.ipynb\" target=\"_parent\"><img src=\"https://colab.research.google.com/assets/colab-badge.svg\" alt=\"Open In Colab\"/></a>"
      ]
    },
    {
      "cell_type": "markdown",
      "metadata": {
        "id": "BkNygtpz-uAk"
      },
      "source": [
        "Install required libaries."
      ]
    },
    {
      "cell_type": "code",
      "execution_count": null,
      "metadata": {
        "colab": {
          "base_uri": "https://localhost:8080/"
        },
        "id": "9oSH9meH-uAm",
        "outputId": "3f0c8f0e-dc9b-4139-fab4-fc2f1b5d2366"
      },
      "outputs": [
        {
          "output_type": "stream",
          "name": "stdout",
          "text": [
            "Requirement already satisfied: sdv in /usr/local/lib/python3.10/dist-packages (1.10.0)\n",
            "Requirement already satisfied: boto3<2,>=1.15.0 in /usr/local/lib/python3.10/dist-packages (from sdv) (1.34.61)\n",
            "Requirement already satisfied: botocore<2,>=1.18 in /usr/local/lib/python3.10/dist-packages (from sdv) (1.34.61)\n",
            "Requirement already satisfied: cloudpickle<3.0,>=2.1.0 in /usr/local/lib/python3.10/dist-packages (from sdv) (2.2.1)\n",
            "Requirement already satisfied: graphviz<1,>=0.13.2 in /usr/local/lib/python3.10/dist-packages (from sdv) (0.20.1)\n",
            "Requirement already satisfied: tqdm<5,>=4.15 in /usr/local/lib/python3.10/dist-packages (from sdv) (4.66.2)\n",
            "Requirement already satisfied: copulas<0.10,>=0.9.0 in /usr/local/lib/python3.10/dist-packages (from sdv) (0.9.2)\n",
            "Requirement already satisfied: ctgan<0.10,>=0.9.0 in /usr/local/lib/python3.10/dist-packages (from sdv) (0.9.0)\n",
            "Requirement already satisfied: deepecho<0.6,>=0.5 in /usr/local/lib/python3.10/dist-packages (from sdv) (0.5.0)\n",
            "Requirement already satisfied: rdt<2,>=1.9.0 in /usr/local/lib/python3.10/dist-packages (from sdv) (1.9.2)\n",
            "Requirement already satisfied: sdmetrics<0.14,>=0.13.0 in /usr/local/lib/python3.10/dist-packages (from sdv) (0.13.0)\n",
            "Requirement already satisfied: numpy<2,>=1.23.3 in /usr/local/lib/python3.10/dist-packages (from sdv) (1.25.2)\n",
            "Requirement already satisfied: pandas>=1.3.4 in /usr/local/lib/python3.10/dist-packages (from sdv) (1.5.3)\n",
            "Requirement already satisfied: jmespath<2.0.0,>=0.7.1 in /usr/local/lib/python3.10/dist-packages (from boto3<2,>=1.15.0->sdv) (1.0.1)\n",
            "Requirement already satisfied: s3transfer<0.11.0,>=0.10.0 in /usr/local/lib/python3.10/dist-packages (from boto3<2,>=1.15.0->sdv) (0.10.0)\n",
            "Requirement already satisfied: python-dateutil<3.0.0,>=2.1 in /usr/local/lib/python3.10/dist-packages (from botocore<2,>=1.18->sdv) (2.8.2)\n",
            "Requirement already satisfied: urllib3<2.1,>=1.25.4 in /usr/local/lib/python3.10/dist-packages (from botocore<2,>=1.18->sdv) (2.0.7)\n",
            "Requirement already satisfied: matplotlib<4,>=3.6.0 in /usr/local/lib/python3.10/dist-packages (from copulas<0.10,>=0.9.0->sdv) (3.7.1)\n",
            "Requirement already satisfied: scipy<2,>=1.9.2 in /usr/local/lib/python3.10/dist-packages (from copulas<0.10,>=0.9.0->sdv) (1.11.4)\n",
            "Requirement already satisfied: scikit-learn<2,>=1.1.3 in /usr/local/lib/python3.10/dist-packages (from ctgan<0.10,>=0.9.0->sdv) (1.2.2)\n",
            "Requirement already satisfied: torch>=1.11.0 in /usr/local/lib/python3.10/dist-packages (from ctgan<0.10,>=0.9.0->sdv) (2.1.0+cu121)\n",
            "Requirement already satisfied: pytz>=2020.1 in /usr/local/lib/python3.10/dist-packages (from pandas>=1.3.4->sdv) (2023.4)\n",
            "Requirement already satisfied: Faker<20,>=17 in /usr/local/lib/python3.10/dist-packages (from rdt<2,>=1.9.0->sdv) (19.13.0)\n",
            "Requirement already satisfied: plotly<6,>=5.10.0 in /usr/local/lib/python3.10/dist-packages (from sdmetrics<0.14,>=0.13.0->sdv) (5.15.0)\n",
            "Requirement already satisfied: contourpy>=1.0.1 in /usr/local/lib/python3.10/dist-packages (from matplotlib<4,>=3.6.0->copulas<0.10,>=0.9.0->sdv) (1.2.0)\n",
            "Requirement already satisfied: cycler>=0.10 in /usr/local/lib/python3.10/dist-packages (from matplotlib<4,>=3.6.0->copulas<0.10,>=0.9.0->sdv) (0.12.1)\n",
            "Requirement already satisfied: fonttools>=4.22.0 in /usr/local/lib/python3.10/dist-packages (from matplotlib<4,>=3.6.0->copulas<0.10,>=0.9.0->sdv) (4.49.0)\n",
            "Requirement already satisfied: kiwisolver>=1.0.1 in /usr/local/lib/python3.10/dist-packages (from matplotlib<4,>=3.6.0->copulas<0.10,>=0.9.0->sdv) (1.4.5)\n",
            "Requirement already satisfied: packaging>=20.0 in /usr/local/lib/python3.10/dist-packages (from matplotlib<4,>=3.6.0->copulas<0.10,>=0.9.0->sdv) (23.2)\n",
            "Requirement already satisfied: pillow>=6.2.0 in /usr/local/lib/python3.10/dist-packages (from matplotlib<4,>=3.6.0->copulas<0.10,>=0.9.0->sdv) (9.4.0)\n",
            "Requirement already satisfied: pyparsing>=2.3.1 in /usr/local/lib/python3.10/dist-packages (from matplotlib<4,>=3.6.0->copulas<0.10,>=0.9.0->sdv) (3.1.2)\n",
            "Requirement already satisfied: tenacity>=6.2.0 in /usr/local/lib/python3.10/dist-packages (from plotly<6,>=5.10.0->sdmetrics<0.14,>=0.13.0->sdv) (8.2.3)\n",
            "Requirement already satisfied: six>=1.5 in /usr/local/lib/python3.10/dist-packages (from python-dateutil<3.0.0,>=2.1->botocore<2,>=1.18->sdv) (1.16.0)\n",
            "Requirement already satisfied: joblib>=1.1.1 in /usr/local/lib/python3.10/dist-packages (from scikit-learn<2,>=1.1.3->ctgan<0.10,>=0.9.0->sdv) (1.3.2)\n",
            "Requirement already satisfied: threadpoolctl>=2.0.0 in /usr/local/lib/python3.10/dist-packages (from scikit-learn<2,>=1.1.3->ctgan<0.10,>=0.9.0->sdv) (3.3.0)\n",
            "Requirement already satisfied: filelock in /usr/local/lib/python3.10/dist-packages (from torch>=1.11.0->ctgan<0.10,>=0.9.0->sdv) (3.13.1)\n",
            "Requirement already satisfied: typing-extensions in /usr/local/lib/python3.10/dist-packages (from torch>=1.11.0->ctgan<0.10,>=0.9.0->sdv) (4.10.0)\n",
            "Requirement already satisfied: sympy in /usr/local/lib/python3.10/dist-packages (from torch>=1.11.0->ctgan<0.10,>=0.9.0->sdv) (1.12)\n",
            "Requirement already satisfied: networkx in /usr/local/lib/python3.10/dist-packages (from torch>=1.11.0->ctgan<0.10,>=0.9.0->sdv) (3.2.1)\n",
            "Requirement already satisfied: jinja2 in /usr/local/lib/python3.10/dist-packages (from torch>=1.11.0->ctgan<0.10,>=0.9.0->sdv) (3.1.3)\n",
            "Requirement already satisfied: fsspec in /usr/local/lib/python3.10/dist-packages (from torch>=1.11.0->ctgan<0.10,>=0.9.0->sdv) (2023.6.0)\n",
            "Requirement already satisfied: triton==2.1.0 in /usr/local/lib/python3.10/dist-packages (from torch>=1.11.0->ctgan<0.10,>=0.9.0->sdv) (2.1.0)\n",
            "Requirement already satisfied: MarkupSafe>=2.0 in /usr/local/lib/python3.10/dist-packages (from jinja2->torch>=1.11.0->ctgan<0.10,>=0.9.0->sdv) (2.1.5)\n",
            "Requirement already satisfied: mpmath>=0.19 in /usr/local/lib/python3.10/dist-packages (from sympy->torch>=1.11.0->ctgan<0.10,>=0.9.0->sdv) (1.3.0)\n"
          ]
        }
      ],
      "source": [
        "# install required libraries\n",
        "!pip install sdv # install the synthetic data vault library"
      ]
    },
    {
      "cell_type": "markdown",
      "metadata": {
        "id": "N2XtFoF7-uAm"
      },
      "source": [
        "Import required libraries."
      ]
    },
    {
      "cell_type": "code",
      "execution_count": null,
      "metadata": {
        "id": "lzy75qeR-uAn"
      },
      "outputs": [],
      "source": [
        "# import data science libraries\n",
        "import pandas as pd\n",
        "import numpy as np\n",
        "import math\n",
        "\n",
        "# import scikit-learn preprocessing\n",
        "from sklearn.preprocessing import LabelEncoder, QuantileTransformer\n",
        "\n",
        "# import pytorch libraries\n",
        "import torch\n",
        "from torch import nn\n",
        "from torch.utils.data import DataLoader, TensorDataset\n",
        "import torch.optim as optim\n",
        "from torch.optim.lr_scheduler import CosineAnnealingLR\n",
        "\n",
        "# import synthetic data vault libraries\n",
        "from sdv.metadata import SingleTableMetadata\n",
        "import sdv.evaluation.single_table as sdv_st\n",
        "\n",
        "# import utility libraries\n",
        "from tqdm import tqdm\n",
        "import xlrd\n",
        "import requests\n",
        "from io import BytesIO\n",
        "from zipfile import ZipFile\n",
        "from datetime import datetime\n",
        "\n",
        "# import visualisation libraries\n",
        "import matplotlib.pyplot as plt\n",
        "import seaborn as sns"
      ]
    },
    {
      "cell_type": "markdown",
      "metadata": {
        "id": "Tbo0PYqB-uAn"
      },
      "source": [
        "Init and set experiment parameters."
      ]
    },
    {
      "cell_type": "code",
      "execution_count": null,
      "metadata": {
        "id": "dBKdSbhs-uAn"
      },
      "outputs": [],
      "source": [
        "# set random seed\n",
        "seed = 1234\n",
        "\n",
        "# set dimension of categorical embeddings\n",
        "cat_emb_dim = 2\n",
        "\n",
        "# set number of neurons per layer\n",
        "mlp_layers = [1024, 1024, 1024, 1024]\n",
        "\n",
        "# set non-linear activation function\n",
        "activation = 'lrelu'\n",
        "\n",
        "# set number of diffusion steps\n",
        "diffusion_steps = 500\n",
        "\n",
        "# set diffusion start and end betas\n",
        "diffusion_beta_start = 1e-4\n",
        "diffusion_beta_end = 0.02\n",
        "\n",
        "# set diffusion scheduler\n",
        "scheduler = 'linear'\n",
        "\n",
        "# set number of training epochs\n",
        "epochs = 30\n",
        "\n",
        "# set training batch size\n",
        "batch_size = 512\n",
        "\n",
        "# set training learning rate\n",
        "learning_rate = 1e-4"
      ]
    },
    {
      "cell_type": "markdown",
      "metadata": {
        "id": "yDSWDYGP-uAo"
      },
      "source": [
        "Set random seed values."
      ]
    },
    {
      "cell_type": "code",
      "execution_count": null,
      "metadata": {
        "id": "opJLUcks-uAo"
      },
      "outputs": [],
      "source": [
        "# set numpy seed\n",
        "np.random.seed(seed)\n",
        "\n",
        "# set pytorch seed\n",
        "torch.manual_seed(seed)\n",
        "\n",
        "# set cuda seed\n",
        "torch.cuda.manual_seed(seed)"
      ]
    },
    {
      "cell_type": "markdown",
      "metadata": {
        "id": "BkIeWrCj-uAo"
      },
      "source": [
        "## Load, pre-process, and init the UCU Credit Card dataset\n",
        "The dataset is available under https://archive.ics.uci.edu/ml/datasets/default+of+credit+card+clients."
      ]
    },
    {
      "cell_type": "code",
      "execution_count": null,
      "metadata": {
        "id": "eCFeg3IO-uAo"
      },
      "outputs": [],
      "source": [
        "# # set data path\n",
        "# data_url = 'https://archive.ics.uci.edu/static/public/350/default+of+credit+card+clients.zip'\n",
        "\n",
        "# # download the file\n",
        "# response = requests.get(data_url)\n",
        "\n",
        "# # determine the zip file\n",
        "# zip_file = ZipFile(BytesIO(response.content))\n",
        "\n",
        "# # extract the zip file\n",
        "# zip_file.extractall('data')\n",
        "\n",
        "# read the UCI credit card dataset\n",
        "train_raw = pd.read_csv(\"philly_data_training.csv\")"
      ]
    },
    {
      "cell_type": "markdown",
      "metadata": {
        "id": "6ypynmbj-uAo"
      },
      "source": [
        "Inspect the top 10 rows and attribute names of the dataset retreived."
      ]
    },
    {
      "cell_type": "code",
      "execution_count": null,
      "metadata": {
        "colab": {
          "base_uri": "https://localhost:8080/",
          "height": 363
        },
        "id": "HJoPS2Oj-uAo",
        "outputId": "ef3d3817-cbba-409b-c779-ce51a6f10859"
      },
      "outputs": [
        {
          "output_type": "execute_result",
          "data": {
            "text/plain": [
              "   u_id  job  user  project  gpu_num  cpu_num  node_num  interval   run_time  \\\n",
              "0     0    1     1        1        1        0         1       0.0  1389243.0   \n",
              "1     1    2     2        2        8        0         4  395146.0    14405.0   \n",
              "2     2    3     3        1        1        0         1  257893.0    66336.0   \n",
              "3     3    3     3        1        1        0         1       0.0  1042044.0   \n",
              "4     4    3     3        1        1        0         1       0.0  2504635.0   \n",
              "5     5    4     2        2        8        0         1  195071.0   100547.0   \n",
              "6     7    5     1        1        1        0         1    7949.0   816099.0   \n",
              "7     8    5     1        1        1        0         1       0.0   120018.0   \n",
              "8     6    5     1        1        1        0         1       0.0   478477.0   \n",
              "9     9    6     1        1        1        0         1   63543.0  1064989.0   \n",
              "\n",
              "   wall_time  node_hour  core_hour new_status  \n",
              "0          0  1389243.0  1389243.0     Killed  \n",
              "1          0    57620.0   115240.0     Failed  \n",
              "2          0    66336.0    66336.0     Killed  \n",
              "3          0  1042044.0  1042044.0     Killed  \n",
              "4          0  2504635.0  2504635.0     Killed  \n",
              "5          0   100547.0   804376.0     Failed  \n",
              "6          0   816099.0   816099.0     Failed  \n",
              "7          0   120018.0   120018.0     Failed  \n",
              "8          0   478477.0   478477.0     Failed  \n",
              "9          0  1064989.0  1064989.0     Killed  "
            ],
            "text/html": [
              "\n",
              "  <div id=\"df-11c2ecd5-2889-4971-b8d3-2037de1cce09\" class=\"colab-df-container\">\n",
              "    <div>\n",
              "<style scoped>\n",
              "    .dataframe tbody tr th:only-of-type {\n",
              "        vertical-align: middle;\n",
              "    }\n",
              "\n",
              "    .dataframe tbody tr th {\n",
              "        vertical-align: top;\n",
              "    }\n",
              "\n",
              "    .dataframe thead th {\n",
              "        text-align: right;\n",
              "    }\n",
              "</style>\n",
              "<table border=\"1\" class=\"dataframe\">\n",
              "  <thead>\n",
              "    <tr style=\"text-align: right;\">\n",
              "      <th></th>\n",
              "      <th>u_id</th>\n",
              "      <th>job</th>\n",
              "      <th>user</th>\n",
              "      <th>project</th>\n",
              "      <th>gpu_num</th>\n",
              "      <th>cpu_num</th>\n",
              "      <th>node_num</th>\n",
              "      <th>interval</th>\n",
              "      <th>run_time</th>\n",
              "      <th>wall_time</th>\n",
              "      <th>node_hour</th>\n",
              "      <th>core_hour</th>\n",
              "      <th>new_status</th>\n",
              "    </tr>\n",
              "  </thead>\n",
              "  <tbody>\n",
              "    <tr>\n",
              "      <th>0</th>\n",
              "      <td>0</td>\n",
              "      <td>1</td>\n",
              "      <td>1</td>\n",
              "      <td>1</td>\n",
              "      <td>1</td>\n",
              "      <td>0</td>\n",
              "      <td>1</td>\n",
              "      <td>0.0</td>\n",
              "      <td>1389243.0</td>\n",
              "      <td>0</td>\n",
              "      <td>1389243.0</td>\n",
              "      <td>1389243.0</td>\n",
              "      <td>Killed</td>\n",
              "    </tr>\n",
              "    <tr>\n",
              "      <th>1</th>\n",
              "      <td>1</td>\n",
              "      <td>2</td>\n",
              "      <td>2</td>\n",
              "      <td>2</td>\n",
              "      <td>8</td>\n",
              "      <td>0</td>\n",
              "      <td>4</td>\n",
              "      <td>395146.0</td>\n",
              "      <td>14405.0</td>\n",
              "      <td>0</td>\n",
              "      <td>57620.0</td>\n",
              "      <td>115240.0</td>\n",
              "      <td>Failed</td>\n",
              "    </tr>\n",
              "    <tr>\n",
              "      <th>2</th>\n",
              "      <td>2</td>\n",
              "      <td>3</td>\n",
              "      <td>3</td>\n",
              "      <td>1</td>\n",
              "      <td>1</td>\n",
              "      <td>0</td>\n",
              "      <td>1</td>\n",
              "      <td>257893.0</td>\n",
              "      <td>66336.0</td>\n",
              "      <td>0</td>\n",
              "      <td>66336.0</td>\n",
              "      <td>66336.0</td>\n",
              "      <td>Killed</td>\n",
              "    </tr>\n",
              "    <tr>\n",
              "      <th>3</th>\n",
              "      <td>3</td>\n",
              "      <td>3</td>\n",
              "      <td>3</td>\n",
              "      <td>1</td>\n",
              "      <td>1</td>\n",
              "      <td>0</td>\n",
              "      <td>1</td>\n",
              "      <td>0.0</td>\n",
              "      <td>1042044.0</td>\n",
              "      <td>0</td>\n",
              "      <td>1042044.0</td>\n",
              "      <td>1042044.0</td>\n",
              "      <td>Killed</td>\n",
              "    </tr>\n",
              "    <tr>\n",
              "      <th>4</th>\n",
              "      <td>4</td>\n",
              "      <td>3</td>\n",
              "      <td>3</td>\n",
              "      <td>1</td>\n",
              "      <td>1</td>\n",
              "      <td>0</td>\n",
              "      <td>1</td>\n",
              "      <td>0.0</td>\n",
              "      <td>2504635.0</td>\n",
              "      <td>0</td>\n",
              "      <td>2504635.0</td>\n",
              "      <td>2504635.0</td>\n",
              "      <td>Killed</td>\n",
              "    </tr>\n",
              "    <tr>\n",
              "      <th>5</th>\n",
              "      <td>5</td>\n",
              "      <td>4</td>\n",
              "      <td>2</td>\n",
              "      <td>2</td>\n",
              "      <td>8</td>\n",
              "      <td>0</td>\n",
              "      <td>1</td>\n",
              "      <td>195071.0</td>\n",
              "      <td>100547.0</td>\n",
              "      <td>0</td>\n",
              "      <td>100547.0</td>\n",
              "      <td>804376.0</td>\n",
              "      <td>Failed</td>\n",
              "    </tr>\n",
              "    <tr>\n",
              "      <th>6</th>\n",
              "      <td>7</td>\n",
              "      <td>5</td>\n",
              "      <td>1</td>\n",
              "      <td>1</td>\n",
              "      <td>1</td>\n",
              "      <td>0</td>\n",
              "      <td>1</td>\n",
              "      <td>7949.0</td>\n",
              "      <td>816099.0</td>\n",
              "      <td>0</td>\n",
              "      <td>816099.0</td>\n",
              "      <td>816099.0</td>\n",
              "      <td>Failed</td>\n",
              "    </tr>\n",
              "    <tr>\n",
              "      <th>7</th>\n",
              "      <td>8</td>\n",
              "      <td>5</td>\n",
              "      <td>1</td>\n",
              "      <td>1</td>\n",
              "      <td>1</td>\n",
              "      <td>0</td>\n",
              "      <td>1</td>\n",
              "      <td>0.0</td>\n",
              "      <td>120018.0</td>\n",
              "      <td>0</td>\n",
              "      <td>120018.0</td>\n",
              "      <td>120018.0</td>\n",
              "      <td>Failed</td>\n",
              "    </tr>\n",
              "    <tr>\n",
              "      <th>8</th>\n",
              "      <td>6</td>\n",
              "      <td>5</td>\n",
              "      <td>1</td>\n",
              "      <td>1</td>\n",
              "      <td>1</td>\n",
              "      <td>0</td>\n",
              "      <td>1</td>\n",
              "      <td>0.0</td>\n",
              "      <td>478477.0</td>\n",
              "      <td>0</td>\n",
              "      <td>478477.0</td>\n",
              "      <td>478477.0</td>\n",
              "      <td>Failed</td>\n",
              "    </tr>\n",
              "    <tr>\n",
              "      <th>9</th>\n",
              "      <td>9</td>\n",
              "      <td>6</td>\n",
              "      <td>1</td>\n",
              "      <td>1</td>\n",
              "      <td>1</td>\n",
              "      <td>0</td>\n",
              "      <td>1</td>\n",
              "      <td>63543.0</td>\n",
              "      <td>1064989.0</td>\n",
              "      <td>0</td>\n",
              "      <td>1064989.0</td>\n",
              "      <td>1064989.0</td>\n",
              "      <td>Killed</td>\n",
              "    </tr>\n",
              "  </tbody>\n",
              "</table>\n",
              "</div>\n",
              "    <div class=\"colab-df-buttons\">\n",
              "\n",
              "  <div class=\"colab-df-container\">\n",
              "    <button class=\"colab-df-convert\" onclick=\"convertToInteractive('df-11c2ecd5-2889-4971-b8d3-2037de1cce09')\"\n",
              "            title=\"Convert this dataframe to an interactive table.\"\n",
              "            style=\"display:none;\">\n",
              "\n",
              "  <svg xmlns=\"http://www.w3.org/2000/svg\" height=\"24px\" viewBox=\"0 -960 960 960\">\n",
              "    <path d=\"M120-120v-720h720v720H120Zm60-500h600v-160H180v160Zm220 220h160v-160H400v160Zm0 220h160v-160H400v160ZM180-400h160v-160H180v160Zm440 0h160v-160H620v160ZM180-180h160v-160H180v160Zm440 0h160v-160H620v160Z\"/>\n",
              "  </svg>\n",
              "    </button>\n",
              "\n",
              "  <style>\n",
              "    .colab-df-container {\n",
              "      display:flex;\n",
              "      gap: 12px;\n",
              "    }\n",
              "\n",
              "    .colab-df-convert {\n",
              "      background-color: #E8F0FE;\n",
              "      border: none;\n",
              "      border-radius: 50%;\n",
              "      cursor: pointer;\n",
              "      display: none;\n",
              "      fill: #1967D2;\n",
              "      height: 32px;\n",
              "      padding: 0 0 0 0;\n",
              "      width: 32px;\n",
              "    }\n",
              "\n",
              "    .colab-df-convert:hover {\n",
              "      background-color: #E2EBFA;\n",
              "      box-shadow: 0px 1px 2px rgba(60, 64, 67, 0.3), 0px 1px 3px 1px rgba(60, 64, 67, 0.15);\n",
              "      fill: #174EA6;\n",
              "    }\n",
              "\n",
              "    .colab-df-buttons div {\n",
              "      margin-bottom: 4px;\n",
              "    }\n",
              "\n",
              "    [theme=dark] .colab-df-convert {\n",
              "      background-color: #3B4455;\n",
              "      fill: #D2E3FC;\n",
              "    }\n",
              "\n",
              "    [theme=dark] .colab-df-convert:hover {\n",
              "      background-color: #434B5C;\n",
              "      box-shadow: 0px 1px 3px 1px rgba(0, 0, 0, 0.15);\n",
              "      filter: drop-shadow(0px 1px 2px rgba(0, 0, 0, 0.3));\n",
              "      fill: #FFFFFF;\n",
              "    }\n",
              "  </style>\n",
              "\n",
              "    <script>\n",
              "      const buttonEl =\n",
              "        document.querySelector('#df-11c2ecd5-2889-4971-b8d3-2037de1cce09 button.colab-df-convert');\n",
              "      buttonEl.style.display =\n",
              "        google.colab.kernel.accessAllowed ? 'block' : 'none';\n",
              "\n",
              "      async function convertToInteractive(key) {\n",
              "        const element = document.querySelector('#df-11c2ecd5-2889-4971-b8d3-2037de1cce09');\n",
              "        const dataTable =\n",
              "          await google.colab.kernel.invokeFunction('convertToInteractive',\n",
              "                                                    [key], {});\n",
              "        if (!dataTable) return;\n",
              "\n",
              "        const docLinkHtml = 'Like what you see? Visit the ' +\n",
              "          '<a target=\"_blank\" href=https://colab.research.google.com/notebooks/data_table.ipynb>data table notebook</a>'\n",
              "          + ' to learn more about interactive tables.';\n",
              "        element.innerHTML = '';\n",
              "        dataTable['output_type'] = 'display_data';\n",
              "        await google.colab.output.renderOutput(dataTable, element);\n",
              "        const docLink = document.createElement('div');\n",
              "        docLink.innerHTML = docLinkHtml;\n",
              "        element.appendChild(docLink);\n",
              "      }\n",
              "    </script>\n",
              "  </div>\n",
              "\n",
              "\n",
              "<div id=\"df-d9d672fe-195a-4246-a3a6-d10d833272e6\">\n",
              "  <button class=\"colab-df-quickchart\" onclick=\"quickchart('df-d9d672fe-195a-4246-a3a6-d10d833272e6')\"\n",
              "            title=\"Suggest charts\"\n",
              "            style=\"display:none;\">\n",
              "\n",
              "<svg xmlns=\"http://www.w3.org/2000/svg\" height=\"24px\"viewBox=\"0 0 24 24\"\n",
              "     width=\"24px\">\n",
              "    <g>\n",
              "        <path d=\"M19 3H5c-1.1 0-2 .9-2 2v14c0 1.1.9 2 2 2h14c1.1 0 2-.9 2-2V5c0-1.1-.9-2-2-2zM9 17H7v-7h2v7zm4 0h-2V7h2v10zm4 0h-2v-4h2v4z\"/>\n",
              "    </g>\n",
              "</svg>\n",
              "  </button>\n",
              "\n",
              "<style>\n",
              "  .colab-df-quickchart {\n",
              "      --bg-color: #E8F0FE;\n",
              "      --fill-color: #1967D2;\n",
              "      --hover-bg-color: #E2EBFA;\n",
              "      --hover-fill-color: #174EA6;\n",
              "      --disabled-fill-color: #AAA;\n",
              "      --disabled-bg-color: #DDD;\n",
              "  }\n",
              "\n",
              "  [theme=dark] .colab-df-quickchart {\n",
              "      --bg-color: #3B4455;\n",
              "      --fill-color: #D2E3FC;\n",
              "      --hover-bg-color: #434B5C;\n",
              "      --hover-fill-color: #FFFFFF;\n",
              "      --disabled-bg-color: #3B4455;\n",
              "      --disabled-fill-color: #666;\n",
              "  }\n",
              "\n",
              "  .colab-df-quickchart {\n",
              "    background-color: var(--bg-color);\n",
              "    border: none;\n",
              "    border-radius: 50%;\n",
              "    cursor: pointer;\n",
              "    display: none;\n",
              "    fill: var(--fill-color);\n",
              "    height: 32px;\n",
              "    padding: 0;\n",
              "    width: 32px;\n",
              "  }\n",
              "\n",
              "  .colab-df-quickchart:hover {\n",
              "    background-color: var(--hover-bg-color);\n",
              "    box-shadow: 0 1px 2px rgba(60, 64, 67, 0.3), 0 1px 3px 1px rgba(60, 64, 67, 0.15);\n",
              "    fill: var(--button-hover-fill-color);\n",
              "  }\n",
              "\n",
              "  .colab-df-quickchart-complete:disabled,\n",
              "  .colab-df-quickchart-complete:disabled:hover {\n",
              "    background-color: var(--disabled-bg-color);\n",
              "    fill: var(--disabled-fill-color);\n",
              "    box-shadow: none;\n",
              "  }\n",
              "\n",
              "  .colab-df-spinner {\n",
              "    border: 2px solid var(--fill-color);\n",
              "    border-color: transparent;\n",
              "    border-bottom-color: var(--fill-color);\n",
              "    animation:\n",
              "      spin 1s steps(1) infinite;\n",
              "  }\n",
              "\n",
              "  @keyframes spin {\n",
              "    0% {\n",
              "      border-color: transparent;\n",
              "      border-bottom-color: var(--fill-color);\n",
              "      border-left-color: var(--fill-color);\n",
              "    }\n",
              "    20% {\n",
              "      border-color: transparent;\n",
              "      border-left-color: var(--fill-color);\n",
              "      border-top-color: var(--fill-color);\n",
              "    }\n",
              "    30% {\n",
              "      border-color: transparent;\n",
              "      border-left-color: var(--fill-color);\n",
              "      border-top-color: var(--fill-color);\n",
              "      border-right-color: var(--fill-color);\n",
              "    }\n",
              "    40% {\n",
              "      border-color: transparent;\n",
              "      border-right-color: var(--fill-color);\n",
              "      border-top-color: var(--fill-color);\n",
              "    }\n",
              "    60% {\n",
              "      border-color: transparent;\n",
              "      border-right-color: var(--fill-color);\n",
              "    }\n",
              "    80% {\n",
              "      border-color: transparent;\n",
              "      border-right-color: var(--fill-color);\n",
              "      border-bottom-color: var(--fill-color);\n",
              "    }\n",
              "    90% {\n",
              "      border-color: transparent;\n",
              "      border-bottom-color: var(--fill-color);\n",
              "    }\n",
              "  }\n",
              "</style>\n",
              "\n",
              "  <script>\n",
              "    async function quickchart(key) {\n",
              "      const quickchartButtonEl =\n",
              "        document.querySelector('#' + key + ' button');\n",
              "      quickchartButtonEl.disabled = true;  // To prevent multiple clicks.\n",
              "      quickchartButtonEl.classList.add('colab-df-spinner');\n",
              "      try {\n",
              "        const charts = await google.colab.kernel.invokeFunction(\n",
              "            'suggestCharts', [key], {});\n",
              "      } catch (error) {\n",
              "        console.error('Error during call to suggestCharts:', error);\n",
              "      }\n",
              "      quickchartButtonEl.classList.remove('colab-df-spinner');\n",
              "      quickchartButtonEl.classList.add('colab-df-quickchart-complete');\n",
              "    }\n",
              "    (() => {\n",
              "      let quickchartButtonEl =\n",
              "        document.querySelector('#df-d9d672fe-195a-4246-a3a6-d10d833272e6 button');\n",
              "      quickchartButtonEl.style.display =\n",
              "        google.colab.kernel.accessAllowed ? 'block' : 'none';\n",
              "    })();\n",
              "  </script>\n",
              "</div>\n",
              "\n",
              "    </div>\n",
              "  </div>\n"
            ],
            "application/vnd.google.colaboratory.intrinsic+json": {
              "type": "dataframe",
              "variable_name": "train_raw",
              "summary": "{\n  \"name\": \"train_raw\",\n  \"rows\": 15000,\n  \"fields\": [\n    {\n      \"column\": \"u_id\",\n      \"properties\": {\n        \"dtype\": \"number\",\n        \"std\": 4330,\n        \"min\": 0,\n        \"max\": 14999,\n        \"num_unique_values\": 15000,\n        \"samples\": [\n          11497,\n          6475,\n          13167\n        ],\n        \"semantic_type\": \"\",\n        \"description\": \"\"\n      }\n    },\n    {\n      \"column\": \"job\",\n      \"properties\": {\n        \"dtype\": \"number\",\n        \"std\": 3312,\n        \"min\": 1,\n        \"max\": 11193,\n        \"num_unique_values\": 11193,\n        \"samples\": [\n          8723,\n          1054,\n          1563\n        ],\n        \"semantic_type\": \"\",\n        \"description\": \"\"\n      }\n    },\n    {\n      \"column\": \"user\",\n      \"properties\": {\n        \"dtype\": \"number\",\n        \"std\": 29,\n        \"min\": 1,\n        \"max\": 136,\n        \"num_unique_values\": 136,\n        \"samples\": [\n          74,\n          46,\n          61\n        ],\n        \"semantic_type\": \"\",\n        \"description\": \"\"\n      }\n    },\n    {\n      \"column\": \"project\",\n      \"properties\": {\n        \"dtype\": \"number\",\n        \"std\": 2,\n        \"min\": 1,\n        \"max\": 12,\n        \"num_unique_values\": 12,\n        \"samples\": [\n          11,\n          10,\n          1\n        ],\n        \"semantic_type\": \"\",\n        \"description\": \"\"\n      }\n    },\n    {\n      \"column\": \"gpu_num\",\n      \"properties\": {\n        \"dtype\": \"number\",\n        \"std\": 3,\n        \"min\": 1,\n        \"max\": 48,\n        \"num_unique_values\": 8,\n        \"samples\": [\n          8,\n          28,\n          1\n        ],\n        \"semantic_type\": \"\",\n        \"description\": \"\"\n      }\n    },\n    {\n      \"column\": \"cpu_num\",\n      \"properties\": {\n        \"dtype\": \"number\",\n        \"std\": 0,\n        \"min\": 0,\n        \"max\": 0,\n        \"num_unique_values\": 1,\n        \"samples\": [\n          0\n        ],\n        \"semantic_type\": \"\",\n        \"description\": \"\"\n      }\n    },\n    {\n      \"column\": \"node_num\",\n      \"properties\": {\n        \"dtype\": \"number\",\n        \"std\": 0,\n        \"min\": 1,\n        \"max\": 16,\n        \"num_unique_values\": 7,\n        \"samples\": [\n          1\n        ],\n        \"semantic_type\": \"\",\n        \"description\": \"\"\n      }\n    },\n    {\n      \"column\": \"interval\",\n      \"properties\": {\n        \"dtype\": \"number\",\n        \"std\": 6052.84226840044,\n        \"min\": 0.0,\n        \"max\": 395146.0,\n        \"num_unique_values\": 728,\n        \"samples\": [\n          57623.0\n        ],\n        \"semantic_type\": \"\",\n        \"description\": \"\"\n      }\n    },\n    {\n      \"column\": \"run_time\",\n      \"properties\": {\n        \"dtype\": \"number\",\n        \"std\": 372101.68184615514,\n        \"min\": 1.0,\n        \"max\": 5199751.0,\n        \"num_unique_values\": 5441,\n        \"samples\": [\n          938.0\n        ],\n        \"semantic_type\": \"\",\n        \"description\": \"\"\n      }\n    },\n    {\n      \"column\": \"wall_time\",\n      \"properties\": {\n        \"dtype\": \"number\",\n        \"std\": 0,\n        \"min\": 0,\n        \"max\": 0,\n        \"num_unique_values\": 1,\n        \"samples\": [\n          0\n        ],\n        \"semantic_type\": \"\",\n        \"description\": \"\"\n      }\n    },\n    {\n      \"column\": \"node_hour\",\n      \"properties\": {\n        \"dtype\": \"number\",\n        \"std\": 378038.35320086876,\n        \"min\": 1.0,\n        \"max\": 5199751.0,\n        \"num_unique_values\": 5452,\n        \"samples\": [\n          34514.0\n        ],\n        \"semantic_type\": \"\",\n        \"description\": \"\"\n      }\n    },\n    {\n      \"column\": \"core_hour\",\n      \"properties\": {\n        \"dtype\": \"number\",\n        \"std\": 1191352.6709989083,\n        \"min\": 1.0,\n        \"max\": 37774256.0,\n        \"num_unique_values\": 5795,\n        \"samples\": [\n          3415.0\n        ],\n        \"semantic_type\": \"\",\n        \"description\": \"\"\n      }\n    },\n    {\n      \"column\": \"new_status\",\n      \"properties\": {\n        \"dtype\": \"category\",\n        \"num_unique_values\": 3,\n        \"samples\": [\n          \"Killed\"\n        ],\n        \"semantic_type\": \"\",\n        \"description\": \"\"\n      }\n    }\n  ]\n}"
            }
          },
          "metadata": {},
          "execution_count": 62
        }
      ],
      "source": [
        "# display top 10 rows\n",
        "train_raw.head(10)"
      ]
    },
    {
      "cell_type": "code",
      "execution_count": null,
      "metadata": {
        "colab": {
          "base_uri": "https://localhost:8080/"
        },
        "id": "uR8FsuuA-uAp",
        "outputId": "bf576852-a929-406b-e729-3bcdd466027e"
      },
      "outputs": [
        {
          "output_type": "execute_result",
          "data": {
            "text/plain": [
              "Index(['u_id', 'job', 'user', 'project', 'gpu_num', 'cpu_num', 'node_num',\n",
              "       'interval', 'run_time', 'wall_time', 'node_hour', 'core_hour',\n",
              "       'new_status'],\n",
              "      dtype='object')"
            ]
          },
          "metadata": {},
          "execution_count": 63
        }
      ],
      "source": [
        "# display attribute names\n",
        "train_raw.columns"
      ]
    },
    {
      "cell_type": "code",
      "source": [
        "# prompt: drop job, project, node_hour, core_hour, and new_status\n",
        "\n",
        "train_raw = train_raw.drop(columns=['job', 'project', 'node_hour', 'core_hour', 'new_status'])\n"
      ],
      "metadata": {
        "id": "AFQPuI_yA41g"
      },
      "execution_count": null,
      "outputs": []
    },
    {
      "cell_type": "code",
      "source": [
        "train_raw.columns"
      ],
      "metadata": {
        "id": "PyleJLcgBSfT",
        "outputId": "548b0529-6d7d-43a8-e2c3-013b4f95a09f",
        "colab": {
          "base_uri": "https://localhost:8080/"
        }
      },
      "execution_count": null,
      "outputs": [
        {
          "output_type": "execute_result",
          "data": {
            "text/plain": [
              "Index(['u_id', 'user', 'gpu_num', 'cpu_num', 'node_num', 'interval',\n",
              "       'run_time', 'wall_time'],\n",
              "      dtype='object')"
            ]
          },
          "metadata": {},
          "execution_count": 65
        }
      ]
    },
    {
      "cell_type": "markdown",
      "metadata": {
        "id": "nSuJVP2w-uAp"
      },
      "source": [
        "Set numerical and categorical dataset attributes."
      ]
    },
    {
      "cell_type": "markdown",
      "metadata": {
        "id": "jMfRB9pF-uAq"
      },
      "source": [
        "Pre-process dataset attributes."
      ]
    },
    {
      "cell_type": "code",
      "execution_count": null,
      "metadata": {
        "id": "3V3Z5MSH-uAq"
      },
      "outputs": [],
      "source": [
        "# remove underscore in column names for correct inverse decoding\n",
        "train_raw.columns = [col.replace('_', '') for col in train_raw.columns]\n",
        "\n",
        "# # convert categorical attributes to string\n",
        "# train_raw[cat_attrs] = train_raw[cat_attrs].astype(str)\n",
        "\n",
        "# # iterate over categorical attributes\n",
        "# for cat_attr in cat_attrs:\n",
        "\n",
        "#     # add col name to every categorical entry to make them distinguishable for embedding\n",
        "#     train_raw[cat_attr] = cat_attr + '_' + train_raw[cat_attr].astype('str')"
      ]
    },
    {
      "cell_type": "code",
      "execution_count": null,
      "metadata": {
        "id": "TrZb2md9-uAq"
      },
      "outputs": [],
      "source": [
        "# determine categorical attributes\n",
        "# cat_attrs = ['SEX', 'EDUCATION', 'MARRIAGE', 'AGE', 'PAY0', 'PAY2', 'PAY3', 'PAY4', 'PAY5', 'PAY6']\n",
        "\n",
        "# determine numerical attributes\n",
        "num_attrs = ['uid', 'user', 'gpunum', 'cpunum', 'nodenum', 'interval', 'runtime', 'walltime']"
      ]
    },
    {
      "cell_type": "markdown",
      "metadata": {
        "id": "75OfzRUa-uAq"
      },
      "source": [
        "Set dataset label."
      ]
    },
    {
      "cell_type": "code",
      "execution_count": null,
      "metadata": {
        "id": "HQzbclXs-uAq"
      },
      "outputs": [],
      "source": [
        "# # extract label\n",
        "# label = train_raw['default payment next month']"
      ]
    },
    {
      "cell_type": "markdown",
      "metadata": {
        "id": "B5wVgGLf-uAq"
      },
      "source": [
        "Determine the training data."
      ]
    },
    {
      "cell_type": "code",
      "execution_count": null,
      "metadata": {
        "id": "ccwwnX7M-uAq"
      },
      "outputs": [],
      "source": [
        "# merge selected categorical and numerical attributes\n",
        "train = train_raw[num_attrs]"
      ]
    },
    {
      "cell_type": "markdown",
      "metadata": {
        "id": "VwpJUFzK-uAq"
      },
      "source": [
        "Transform the numerical attributes."
      ]
    },
    {
      "cell_type": "code",
      "execution_count": null,
      "metadata": {
        "id": "zoTfVFzy-uAq"
      },
      "outputs": [],
      "source": [
        "# init the quantile transformation\n",
        "num_scaler = QuantileTransformer(output_distribution='normal', random_state=seed)\n",
        "\n",
        "# fit transformation to numerical attributes\n",
        "num_scaler.fit(train[num_attrs])\n",
        "\n",
        "# transform numerical attributes\n",
        "train_num_scaled = num_scaler.transform(train[num_attrs])"
      ]
    },
    {
      "cell_type": "markdown",
      "metadata": {
        "id": "VJ07R4zH-uAq"
      },
      "source": [
        "Transform the categorical attributes."
      ]
    },
    {
      "cell_type": "code",
      "execution_count": null,
      "metadata": {
        "id": "Cvri3o_l-uAr"
      },
      "outputs": [],
      "source": [
        "# # get vocabulary of categorical attributes\n",
        "# vocabulary_classes = np.unique(train[cat_attrs])\n",
        "\n",
        "# # init categorical attribute encoder\n",
        "# label_encoder = LabelEncoder()\n",
        "\n",
        "# # fit encoder to categorical attributes\n",
        "# label_encoder.fit(vocabulary_classes)\n",
        "\n",
        "# # transform categorical attributes\n",
        "# train_cat_scaled = train[cat_attrs].apply(label_encoder.transform)\n",
        "\n",
        "# # collect unique values of each categorical attribute\n",
        "# vocab_per_attr = {cat_attr: set(train_cat_scaled[cat_attr]) for cat_attr in cat_attrs}"
      ]
    },
    {
      "cell_type": "markdown",
      "metadata": {
        "id": "aRUJh-wJ-uAr"
      },
      "source": [
        "Convert numerical and categorical attributes as well as the labels to tensors."
      ]
    },
    {
      "cell_type": "code",
      "execution_count": null,
      "metadata": {
        "id": "mlz7G7qK-uAr"
      },
      "outputs": [],
      "source": [
        "# convert numerical attributes\n",
        "train_num_torch = torch.FloatTensor(train_num_scaled)\n",
        "\n",
        "# # convert categorical attributes\n",
        "# train_cat_torch = torch.LongTensor(train_cat_scaled.values)\n",
        "\n",
        "# # convert label\n",
        "# label_torch = torch.LongTensor(label)"
      ]
    },
    {
      "cell_type": "markdown",
      "metadata": {
        "id": "HqqaYhR4-uAr"
      },
      "source": [
        "Convert dataset to tensor dataset."
      ]
    },
    {
      "cell_type": "code",
      "execution_count": null,
      "metadata": {
        "id": "W4Mkrmcz-uAr"
      },
      "outputs": [],
      "source": [
        "# init tensor dataset\n",
        "train_set = TensorDataset(\n",
        "    train_num_torch, # numerical attributes\n",
        ")"
      ]
    },
    {
      "cell_type": "markdown",
      "metadata": {
        "id": "h0O50FWJ-uAr"
      },
      "source": [
        "Init the data loader."
      ]
    },
    {
      "cell_type": "code",
      "execution_count": null,
      "metadata": {
        "id": "54aXeoCx-uAr"
      },
      "outputs": [],
      "source": [
        "# init the data loader\n",
        "dataloader = DataLoader(\n",
        "    dataset=train_set, # training dataset\n",
        "    batch_size=batch_size, # training batch size\n",
        "    num_workers=0, # number of workers\n",
        "    shuffle=True # shuffle training data\n",
        ")"
      ]
    },
    {
      "cell_type": "markdown",
      "metadata": {
        "id": "r9t4hC9k-uAr"
      },
      "source": [
        "## Implement the FinDiff model"
      ]
    },
    {
      "cell_type": "markdown",
      "metadata": {
        "id": "04kGaymM-uAr"
      },
      "source": [
        "Implement the FinDiff backbone model."
      ]
    },
    {
      "cell_type": "code",
      "execution_count": null,
      "metadata": {
        "id": "S9ESfbxn-uAr"
      },
      "outputs": [],
      "source": [
        "# define base feedforward network\n",
        "class BaseNetwork(nn.Module):\n",
        "\n",
        "    # define base network constructor\n",
        "    def __init__(self, hidden_size, activation='lrelu'):\n",
        "\n",
        "        # call super calass constructor\n",
        "        super(BaseNetwork, self).__init__()\n",
        "\n",
        "        # init\n",
        "        self.layers = self.init_layers(hidden_size)\n",
        "\n",
        "        # case: lrelu activation\n",
        "        if activation == 'lrelu':\n",
        "\n",
        "            # set lrelu activation\n",
        "            self.activation = nn.LeakyReLU(negative_slope=0.4, inplace=True)\n",
        "\n",
        "        # case: relu activation\n",
        "        elif activation == 'relu':\n",
        "\n",
        "            # set relu activation\n",
        "            self.activation = nn.ReLU(inplace=True)\n",
        "\n",
        "        # case: tanh activation\n",
        "        elif activation == 'tanh':\n",
        "\n",
        "            # set tanh activation\n",
        "            self.activation = nn.Tanh()\n",
        "\n",
        "        # case: sigmoid activation\n",
        "        else:\n",
        "\n",
        "            # set sigmoid activation\n",
        "            self.activation = nn.Sigmoid()\n",
        "\n",
        "    # define layer initialization\n",
        "    def init_layers(self, layer_dimensions):\n",
        "\n",
        "        # init layers\n",
        "        layers = []\n",
        "\n",
        "        # iterate over layer dimensions\n",
        "        for i in range(len(layer_dimensions)-1):\n",
        "\n",
        "            # init linear layer\n",
        "            layer = nn.Linear(layer_dimensions[i], layer_dimensions[i + 1], bias=True)\n",
        "\n",
        "            # init linear layer weights\n",
        "            nn.init.xavier_uniform_(layer.weight)\n",
        "\n",
        "            # init linear layer bias\n",
        "            nn.init.constant_(layer.bias, 0.0)\n",
        "\n",
        "            # collecet linear layer\n",
        "            layers.append(layer)\n",
        "\n",
        "            # register linear layer parameters\n",
        "            self.add_module('linear_' + str(i), layer)\n",
        "\n",
        "        # return layers\n",
        "        return layers\n",
        "\n",
        "    # define forward pass\n",
        "    def forward(self, x):\n",
        "\n",
        "        # iterate over layers\n",
        "        for i in range(len(self.layers)):\n",
        "\n",
        "            # run layer forward pass\n",
        "            x = self.activation(self.layers[i](x))\n",
        "\n",
        "        # return forward pass result\n",
        "        return x"
      ]
    },
    {
      "cell_type": "markdown",
      "metadata": {
        "id": "uOnONgie-uAs"
      },
      "source": [
        "Implement the FinDiff model synthesizer."
      ]
    },
    {
      "cell_type": "code",
      "execution_count": null,
      "metadata": {
        "id": "UR51Xd1Q-uAs"
      },
      "outputs": [],
      "source": [
        "class MLPSynthesizer(nn.Module):\n",
        "    def __init__(\n",
        "            self,\n",
        "            d_in: int,\n",
        "            hidden_layers: list,\n",
        "            activation: str='lrelu', # layer activation\n",
        "            dim_t: int=64\n",
        "        ):\n",
        "        super(MLPSynthesizer, self).__init__()\n",
        "\n",
        "        self.dim_t = dim_t\n",
        "        self.backbone = BaseNetwork([dim_t, *hidden_layers], activation=activation)\n",
        "\n",
        "        self.projection = nn.Sequential(\n",
        "            nn.Linear(d_in, dim_t), # linear layer\n",
        "            nn.SiLU(), # silu activation\n",
        "            nn.Linear(dim_t, dim_t) # linear layer\n",
        "        )\n",
        "\n",
        "        self.time_embed = nn.Sequential(\n",
        "            nn.Linear(dim_t, dim_t), # linear layer\n",
        "            nn.SiLU(), # silu activation\n",
        "            nn.Linear(dim_t, dim_t) # linear layer\n",
        "        )\n",
        "\n",
        "        self.head = nn.Linear(hidden_layers[-1], d_in)\n",
        "\n",
        "    def embed_time(self, timesteps, dim_out, max_period=10000):\n",
        "        half_dim_out = dim_out // 2\n",
        "        freqs = torch.exp(-math.log(max_period) * torch.arange(start=0, end=half_dim_out, dtype=torch.float32) / half_dim_out)\n",
        "        freqs = freqs.to(device=timesteps.device)\n",
        "        args = timesteps[:, None].float() * freqs[None]\n",
        "        time_embedding = torch.cat([torch.cos(args), torch.sin(args)], dim=-1)\n",
        "\n",
        "        if dim_out % 2:\n",
        "            time_embedding = torch.cat([time_embedding, torch.zeros_like(time_embedding[:, :1])], dim=-1)\n",
        "\n",
        "        return time_embedding\n",
        "\n",
        "    def forward(self, x, timesteps):\n",
        "        time_emb = self.embed_time(timesteps, self.dim_t)\n",
        "        time_emb = self.time_embed(time_emb)\n",
        "        x = self.projection(x) + time_emb  # Removed label embedding addition\n",
        "        x = self.backbone(x)\n",
        "        x = self.head(x)\n",
        "        return x\n"
      ]
    },
    {
      "cell_type": "markdown",
      "metadata": {
        "id": "fxnyeKG6-uAs"
      },
      "source": [
        "Implement the FinDiff model base diffuser."
      ]
    },
    {
      "cell_type": "code",
      "execution_count": null,
      "metadata": {
        "id": "3pqBI05x-uAs"
      },
      "outputs": [],
      "source": [
        "# define BaseDiffuser network\n",
        "class BaseDiffuser(object):\n",
        "\n",
        "    # define base diffuser network constructor\n",
        "    def __init__(\n",
        "            self,\n",
        "            total_steps=1000,\n",
        "            beta_start=1e-4,\n",
        "            beta_end=0.02,\n",
        "            device='cpu',\n",
        "            scheduler='linear'\n",
        "        ):\n",
        "\n",
        "        # set diffusion steps\n",
        "        self.total_steps = total_steps\n",
        "\n",
        "        # set diffusion start beta\n",
        "        self.beta_start = beta_start\n",
        "\n",
        "        # set diffusion end beta\n",
        "        self.beta_end = beta_end\n",
        "\n",
        "        # set compute device\n",
        "        self.device = device\n",
        "\n",
        "        # set noise schedule alphas and betas\n",
        "        self.alphas, self.betas = self.prepare_noise_schedule(scheduler=scheduler)\n",
        "\n",
        "        # set noise schedule alhpa hats\n",
        "        self.alphas_hat = torch.cumprod(self.alphas, dim=0)\n",
        "\n",
        "    # define noise schedule\n",
        "    def prepare_noise_schedule(self, scheduler: str):\n",
        "\n",
        "        # determine noise scheduler scale\n",
        "        scale = 1000 / self.total_steps\n",
        "\n",
        "        # scale beta start\n",
        "        beta_start = scale * self.beta_start\n",
        "\n",
        "        # scale beta end\n",
        "        beta_end = scale * self.beta_end\n",
        "\n",
        "        # case: linear noise scheduler\n",
        "        if scheduler == 'linear':\n",
        "\n",
        "            # determine linear noise schedule betas\n",
        "            betas = torch.linspace(beta_start, beta_end, self.total_steps)\n",
        "\n",
        "            # determine linear noise schedule alphas\n",
        "            alphas = 1.0 - betas\n",
        "\n",
        "        # case: quadratic noise scheduler\n",
        "        elif scheduler == 'quad':\n",
        "\n",
        "            # determine quadratic noise schedule betas\n",
        "            betas = torch.linspace(self.beta_start ** 0.5, self.beta_end ** 0.5, self.total_steps) ** 2\n",
        "\n",
        "            # determine quadratic noise schedule alphas\n",
        "            alphas = 1.0 - betas\n",
        "\n",
        "        # return noise scheduler alphas and betas\n",
        "        return alphas.to(self.device), betas.to(self.device)\n",
        "\n",
        "    # define random timesteps sampler\n",
        "    def sample_random_timesteps(self, n: int):\n",
        "\n",
        "        # sample random timesteps\n",
        "        t = torch.randint(low=1, high=self.total_steps, size=(n,), device=self.device)\n",
        "\n",
        "        # return random timesteps\n",
        "        return t\n",
        "\n",
        "    # define gaussian noise addition\n",
        "    def add_gauss_noise(self, x_num, t):\n",
        "\n",
        "        # determine noise alpha hat\n",
        "        sqrt_alpha_hat = torch.sqrt(self.alphas_hat[t])[:, None]\n",
        "\n",
        "        # determine noise one minius alpha hat\n",
        "        sqrt_one_minus_alpha_hat = torch.sqrt(1 - self.alphas_hat[t])[:, None]\n",
        "\n",
        "        # determine numeric noise\n",
        "        noise_num = torch.randn_like(x_num)\n",
        "\n",
        "        # determine x numeric noise\n",
        "        x_noise_num = sqrt_alpha_hat * x_num + sqrt_one_minus_alpha_hat * noise_num\n",
        "\n",
        "        # return x numeric noise and numeric noise\n",
        "        return x_noise_num, noise_num\n",
        "\n",
        "    # define gaussian noise sampling\n",
        "    def p_sample_gauss(self, model_out, z_norm, timesteps):\n",
        "\n",
        "        # determine noise alpha hat\n",
        "        sqrt_alpha_t = torch.sqrt(self.alphas[timesteps])[:, None]\n",
        "\n",
        "        # determine noise betas\n",
        "        betas_t = self.betas[timesteps][:, None]\n",
        "\n",
        "        # determine noise one minius alpha hat\n",
        "        sqrt_one_minus_alpha_hat_t = torch.sqrt(1 - self.alphas_hat[timesteps])[:, None]\n",
        "\n",
        "        epsilon_t = torch.sqrt(self.betas[timesteps][:, None])\n",
        "\n",
        "        # determine random noise\n",
        "        random_noise = torch.randn_like(z_norm)\n",
        "        random_noise[timesteps == 0] = 0.0\n",
        "\n",
        "        # determine model mean\n",
        "        model_mean = ((1 / sqrt_alpha_t) * (z_norm - (betas_t * model_out / sqrt_one_minus_alpha_hat_t)))\n",
        "\n",
        "        # determine z norm\n",
        "        z_norm = model_mean + (epsilon_t * random_noise)\n",
        "\n",
        "        # return z norm\n",
        "        return z_norm"
      ]
    },
    {
      "cell_type": "markdown",
      "metadata": {
        "id": "MsfmLup2-uAs"
      },
      "source": [
        "## Initialize and train the FinDiff model"
      ]
    },
    {
      "cell_type": "code",
      "execution_count": null,
      "metadata": {
        "id": "4OpCKxt2-uA0"
      },
      "outputs": [],
      "source": [
        "# determine number unique categorical tokens\n",
        "# n_cat_tokens = len(np.unique(train[cat_attrs]))\n",
        "\n",
        "# determine total categorical embedding dimension\n",
        "# cat_dim = cat_emb_dim * len(cat_attrs)\n",
        "\n",
        "# determine total numerical embedding dimension\n",
        "num_dim = len(num_attrs)\n",
        "\n",
        "# determine total embedding dimension\n",
        "encoded_dim = num_dim"
      ]
    },
    {
      "cell_type": "code",
      "execution_count": null,
      "metadata": {
        "id": "osSpUZXX-uA0"
      },
      "outputs": [],
      "source": [
        "# initialize the FinDiff synthesizer model\n",
        "synthesizer_model = MLPSynthesizer(\n",
        "    d_in=encoded_dim,\n",
        "    hidden_layers=mlp_layers,\n",
        "    activation=activation\n",
        ")\n"
      ]
    },
    {
      "cell_type": "code",
      "execution_count": null,
      "metadata": {
        "id": "PyQgeHP_-uA0"
      },
      "outputs": [],
      "source": [
        "# initialize the FinDiff base diffuser model\n",
        "diffuser_model = BaseDiffuser(\n",
        "    total_steps=diffusion_steps,\n",
        "    beta_start=diffusion_beta_start,\n",
        "    beta_end=diffusion_beta_end,\n",
        "    scheduler=scheduler\n",
        ")"
      ]
    },
    {
      "cell_type": "markdown",
      "metadata": {
        "id": "HaCRBVVB-uA0"
      },
      "source": [
        "Init optimizer, scheduler and loss function."
      ]
    },
    {
      "cell_type": "code",
      "execution_count": null,
      "metadata": {
        "id": "waQoplEC-uA0"
      },
      "outputs": [],
      "source": [
        "# determine synthesizer model parameters\n",
        "parameters = filter(lambda p: p.requires_grad, synthesizer_model.parameters())\n",
        "\n",
        "# init Adam optimizer\n",
        "optimizer = optim.Adam(parameters, lr=learning_rate)\n",
        "\n",
        "# init learning rate scheduler\n",
        "lr_scheduler = CosineAnnealingLR(optimizer, T_max=epochs, verbose=False)\n",
        "\n",
        "# int mean-squared-error loss\n",
        "loss_fnc = nn.MSELoss()"
      ]
    },
    {
      "cell_type": "code",
      "execution_count": null,
      "metadata": {
        "colab": {
          "base_uri": "https://localhost:8080/"
        },
        "id": "k9iUJPLI-uA0",
        "outputId": "01c7dbf0-07b8-4be5-8dd6-4c54ce4c5f74"
      },
      "outputs": [
        {
          "output_type": "stream",
          "name": "stderr",
          "text": [
            "[LOG 2024-03-13 13:54:07] epoch: 0029, train-loss: 0.2029375: 100%|██████████| 30/30 [03:12<00:00,  6.42s/it]\n"
          ]
        }
      ],
      "source": [
        "# Initialize collection of training epoch losses\n",
        "train_epoch_losses = []\n",
        "\n",
        "# Set the model in training mode\n",
        "synthesizer_model.train()\n",
        "\n",
        "# Initialize the training progress bar\n",
        "pbar = tqdm(iterable=range(epochs), position=0, leave=True)\n",
        "\n",
        "# Iterate over training epochs\n",
        "for epoch in pbar:\n",
        "    # Initialize epoch training batch losses\n",
        "    batch_losses = []\n",
        "\n",
        "    # Iterate over epoch batches\n",
        "    for batch_num in dataloader:  # Assuming the DataLoader now only yields numerical data batches\n",
        "\n",
        "        batch_num = batch_num[0]\n",
        "        # Sample diffusion timestep\n",
        "        timesteps = diffuser_model.sample_random_timesteps(n=batch_num.shape[0])\n",
        "\n",
        "        # Add diffuser Gaussian noise\n",
        "        batch_noise_t, noise_t = diffuser_model.add_gauss_noise(x_num=batch_num, t=timesteps)\n",
        "\n",
        "        # Conduct synthesizer model forward pass without labels\n",
        "        predicted_noise = synthesizer_model(x=batch_noise_t, timesteps=timesteps)\n",
        "\n",
        "        # Compute training batch loss\n",
        "        batch_loss = loss_fnc(input=noise_t, target=predicted_noise)\n",
        "\n",
        "        # Reset model gradients\n",
        "        optimizer.zero_grad()\n",
        "\n",
        "        # Run model backward pass\n",
        "        batch_loss.backward()\n",
        "\n",
        "        # Optimize model parameters\n",
        "        optimizer.step()\n",
        "\n",
        "        # Collect training batch losses\n",
        "        batch_losses.append(batch_loss.detach().cpu().numpy())\n",
        "\n",
        "    # Determine mean training epoch loss\n",
        "    batch_losses_mean = np.mean(np.array(batch_losses))\n",
        "\n",
        "    # Update learning rate scheduler\n",
        "    lr_scheduler.step()\n",
        "\n",
        "    # Collect mean training epoch loss\n",
        "    train_epoch_losses.append(batch_losses_mean)\n",
        "\n",
        "    # Prepare and set training epoch progress bar update\n",
        "    now = datetime.utcnow().strftime('%Y-%m-%d %H:%M:%S')\n",
        "    pbar.set_description('[LOG {}] epoch: {}, train-loss: {}'.format(str(now), str(epoch).zfill(4), str(batch_losses_mean)))\n"
      ]
    },
    {
      "cell_type": "markdown",
      "metadata": {
        "id": "NnCxP-Ki-uA1"
      },
      "source": [
        "## Generate Data using the FinDiff model"
      ]
    },
    {
      "cell_type": "markdown",
      "metadata": {
        "id": "AHISw3Wb-uA1"
      },
      "source": [
        "Init and set sampling parameters."
      ]
    },
    {
      "cell_type": "code",
      "execution_count": null,
      "metadata": {
        "id": "OhPJkyrV-uA1"
      },
      "outputs": [],
      "source": [
        "# set number of generated samples\n",
        "n_samples = None\n",
        "\n",
        "# set number of diffusion steps\n",
        "diffusion_steps = 10"
      ]
    },
    {
      "cell_type": "markdown",
      "metadata": {
        "id": "oMh7YOnu-uA1"
      },
      "source": [
        "Use FinDiff to generate new data samples."
      ]
    },
    {
      "cell_type": "markdown",
      "metadata": {
        "id": "H-cnH0wG-uA1"
      },
      "source": [
        "Decode generated FinDiff samples."
      ]
    },
    {
      "cell_type": "code",
      "execution_count": null,
      "metadata": {
        "colab": {
          "base_uri": "https://localhost:8080/"
        },
        "id": "71HQmSBU-uA1",
        "outputId": "050f820d-a3ea-4004-d627-b7fe1511f673"
      },
      "outputs": [
        {
          "output_type": "stream",
          "name": "stderr",
          "text": [
            "[LOG 2024-03-13 13:54:39] Diffusion Step: 0000: : 10it [00:02,  3.44it/s]\n",
            "/usr/local/lib/python3.10/dist-packages/sklearn/base.py:439: UserWarning: X does not have valid feature names, but QuantileTransformer was fitted with feature names\n",
            "  warnings.warn(\n"
          ]
        }
      ],
      "source": [
        "# Use FinDiff to generate new data samples.\n",
        "samples = torch.randn((15000, encoded_dim))  # Example size, adjust as necessary\n",
        "\n",
        "pbar = tqdm(iterable=reversed(range(0, diffusion_steps)), position=0, leave=True)\n",
        "\n",
        "for diffusion_step in pbar:\n",
        "    now = datetime.utcnow().strftime('%Y-%m-%d %H:%M:%S')\n",
        "    pbar.set_description('[LOG {}] Diffusion Step: {}'.format(str(now), str(diffusion_step).zfill(4)))\n",
        "\n",
        "    timesteps = torch.full((samples.shape[0],), diffusion_step, dtype=torch.long)\n",
        "    model_out = synthesizer_model(x=samples.float(), timesteps=timesteps)\n",
        "    samples = diffuser_model.p_sample_gauss(model_out, samples, timesteps)\n",
        "\n",
        "samples = samples.detach().numpy()\n",
        "\n",
        "# Denormalize numeric attributes\n",
        "z_norm_upscaled = num_scaler.inverse_transform(samples)\n",
        "z_norm_df = pd.DataFrame(z_norm_upscaled, columns=num_attrs)\n",
        "\n",
        "samples_decoded = z_norm_df\n"
      ]
    },
    {
      "cell_type": "code",
      "execution_count": null,
      "metadata": {
        "colab": {
          "base_uri": "https://localhost:8080/",
          "height": 363
        },
        "id": "20wUOoQo-uA2",
        "outputId": "761e423b-f66a-46b2-9afe-46a71a67c7a5"
      },
      "outputs": [
        {
          "output_type": "execute_result",
          "data": {
            "text/plain": [
              "            uid        user  gpunum  cpunum  nodenum   interval  \\\n",
              "0   7398.025879   45.000000     1.0     0.0      1.0   4.000000   \n",
              "1  13111.475586   51.000000     1.0     0.0      1.0   4.000000   \n",
              "2  12048.351562  128.043137     1.0     0.0      1.0   5.000000   \n",
              "3    523.095337   47.000000     1.0     0.0      1.0   0.000000   \n",
              "4   5903.635742   10.000000     1.0     0.0      1.0  31.000000   \n",
              "5   2102.328369   10.000000     2.0     0.0      1.0   0.000000   \n",
              "6   5567.489746   21.881939     8.0     0.0      1.0  15.866567   \n",
              "7  11151.073242   77.059204     1.0     0.0      1.0  11.327175   \n",
              "8  10095.381836   64.367233     1.0     0.0      1.0  27.000000   \n",
              "9  10309.771484   47.000000     1.0     0.0      1.0  45.468571   \n",
              "\n",
              "         runtime  walltime  \n",
              "0     964.961426       0.0  \n",
              "1     956.678406       0.0  \n",
              "2  122791.960938       0.0  \n",
              "3    2711.081299       0.0  \n",
              "4   13354.500000       0.0  \n",
              "5      99.241859       0.0  \n",
              "6      73.634010       0.0  \n",
              "7     899.126160       0.0  \n",
              "8      77.000000       0.0  \n",
              "9      48.000000       0.0  "
            ],
            "text/html": [
              "\n",
              "  <div id=\"df-76ccd65d-b485-4188-a86d-0385b95cefe3\" class=\"colab-df-container\">\n",
              "    <div>\n",
              "<style scoped>\n",
              "    .dataframe tbody tr th:only-of-type {\n",
              "        vertical-align: middle;\n",
              "    }\n",
              "\n",
              "    .dataframe tbody tr th {\n",
              "        vertical-align: top;\n",
              "    }\n",
              "\n",
              "    .dataframe thead th {\n",
              "        text-align: right;\n",
              "    }\n",
              "</style>\n",
              "<table border=\"1\" class=\"dataframe\">\n",
              "  <thead>\n",
              "    <tr style=\"text-align: right;\">\n",
              "      <th></th>\n",
              "      <th>uid</th>\n",
              "      <th>user</th>\n",
              "      <th>gpunum</th>\n",
              "      <th>cpunum</th>\n",
              "      <th>nodenum</th>\n",
              "      <th>interval</th>\n",
              "      <th>runtime</th>\n",
              "      <th>walltime</th>\n",
              "    </tr>\n",
              "  </thead>\n",
              "  <tbody>\n",
              "    <tr>\n",
              "      <th>0</th>\n",
              "      <td>7398.025879</td>\n",
              "      <td>45.000000</td>\n",
              "      <td>1.0</td>\n",
              "      <td>0.0</td>\n",
              "      <td>1.0</td>\n",
              "      <td>4.000000</td>\n",
              "      <td>964.961426</td>\n",
              "      <td>0.0</td>\n",
              "    </tr>\n",
              "    <tr>\n",
              "      <th>1</th>\n",
              "      <td>13111.475586</td>\n",
              "      <td>51.000000</td>\n",
              "      <td>1.0</td>\n",
              "      <td>0.0</td>\n",
              "      <td>1.0</td>\n",
              "      <td>4.000000</td>\n",
              "      <td>956.678406</td>\n",
              "      <td>0.0</td>\n",
              "    </tr>\n",
              "    <tr>\n",
              "      <th>2</th>\n",
              "      <td>12048.351562</td>\n",
              "      <td>128.043137</td>\n",
              "      <td>1.0</td>\n",
              "      <td>0.0</td>\n",
              "      <td>1.0</td>\n",
              "      <td>5.000000</td>\n",
              "      <td>122791.960938</td>\n",
              "      <td>0.0</td>\n",
              "    </tr>\n",
              "    <tr>\n",
              "      <th>3</th>\n",
              "      <td>523.095337</td>\n",
              "      <td>47.000000</td>\n",
              "      <td>1.0</td>\n",
              "      <td>0.0</td>\n",
              "      <td>1.0</td>\n",
              "      <td>0.000000</td>\n",
              "      <td>2711.081299</td>\n",
              "      <td>0.0</td>\n",
              "    </tr>\n",
              "    <tr>\n",
              "      <th>4</th>\n",
              "      <td>5903.635742</td>\n",
              "      <td>10.000000</td>\n",
              "      <td>1.0</td>\n",
              "      <td>0.0</td>\n",
              "      <td>1.0</td>\n",
              "      <td>31.000000</td>\n",
              "      <td>13354.500000</td>\n",
              "      <td>0.0</td>\n",
              "    </tr>\n",
              "    <tr>\n",
              "      <th>5</th>\n",
              "      <td>2102.328369</td>\n",
              "      <td>10.000000</td>\n",
              "      <td>2.0</td>\n",
              "      <td>0.0</td>\n",
              "      <td>1.0</td>\n",
              "      <td>0.000000</td>\n",
              "      <td>99.241859</td>\n",
              "      <td>0.0</td>\n",
              "    </tr>\n",
              "    <tr>\n",
              "      <th>6</th>\n",
              "      <td>5567.489746</td>\n",
              "      <td>21.881939</td>\n",
              "      <td>8.0</td>\n",
              "      <td>0.0</td>\n",
              "      <td>1.0</td>\n",
              "      <td>15.866567</td>\n",
              "      <td>73.634010</td>\n",
              "      <td>0.0</td>\n",
              "    </tr>\n",
              "    <tr>\n",
              "      <th>7</th>\n",
              "      <td>11151.073242</td>\n",
              "      <td>77.059204</td>\n",
              "      <td>1.0</td>\n",
              "      <td>0.0</td>\n",
              "      <td>1.0</td>\n",
              "      <td>11.327175</td>\n",
              "      <td>899.126160</td>\n",
              "      <td>0.0</td>\n",
              "    </tr>\n",
              "    <tr>\n",
              "      <th>8</th>\n",
              "      <td>10095.381836</td>\n",
              "      <td>64.367233</td>\n",
              "      <td>1.0</td>\n",
              "      <td>0.0</td>\n",
              "      <td>1.0</td>\n",
              "      <td>27.000000</td>\n",
              "      <td>77.000000</td>\n",
              "      <td>0.0</td>\n",
              "    </tr>\n",
              "    <tr>\n",
              "      <th>9</th>\n",
              "      <td>10309.771484</td>\n",
              "      <td>47.000000</td>\n",
              "      <td>1.0</td>\n",
              "      <td>0.0</td>\n",
              "      <td>1.0</td>\n",
              "      <td>45.468571</td>\n",
              "      <td>48.000000</td>\n",
              "      <td>0.0</td>\n",
              "    </tr>\n",
              "  </tbody>\n",
              "</table>\n",
              "</div>\n",
              "    <div class=\"colab-df-buttons\">\n",
              "\n",
              "  <div class=\"colab-df-container\">\n",
              "    <button class=\"colab-df-convert\" onclick=\"convertToInteractive('df-76ccd65d-b485-4188-a86d-0385b95cefe3')\"\n",
              "            title=\"Convert this dataframe to an interactive table.\"\n",
              "            style=\"display:none;\">\n",
              "\n",
              "  <svg xmlns=\"http://www.w3.org/2000/svg\" height=\"24px\" viewBox=\"0 -960 960 960\">\n",
              "    <path d=\"M120-120v-720h720v720H120Zm60-500h600v-160H180v160Zm220 220h160v-160H400v160Zm0 220h160v-160H400v160ZM180-400h160v-160H180v160Zm440 0h160v-160H620v160ZM180-180h160v-160H180v160Zm440 0h160v-160H620v160Z\"/>\n",
              "  </svg>\n",
              "    </button>\n",
              "\n",
              "  <style>\n",
              "    .colab-df-container {\n",
              "      display:flex;\n",
              "      gap: 12px;\n",
              "    }\n",
              "\n",
              "    .colab-df-convert {\n",
              "      background-color: #E8F0FE;\n",
              "      border: none;\n",
              "      border-radius: 50%;\n",
              "      cursor: pointer;\n",
              "      display: none;\n",
              "      fill: #1967D2;\n",
              "      height: 32px;\n",
              "      padding: 0 0 0 0;\n",
              "      width: 32px;\n",
              "    }\n",
              "\n",
              "    .colab-df-convert:hover {\n",
              "      background-color: #E2EBFA;\n",
              "      box-shadow: 0px 1px 2px rgba(60, 64, 67, 0.3), 0px 1px 3px 1px rgba(60, 64, 67, 0.15);\n",
              "      fill: #174EA6;\n",
              "    }\n",
              "\n",
              "    .colab-df-buttons div {\n",
              "      margin-bottom: 4px;\n",
              "    }\n",
              "\n",
              "    [theme=dark] .colab-df-convert {\n",
              "      background-color: #3B4455;\n",
              "      fill: #D2E3FC;\n",
              "    }\n",
              "\n",
              "    [theme=dark] .colab-df-convert:hover {\n",
              "      background-color: #434B5C;\n",
              "      box-shadow: 0px 1px 3px 1px rgba(0, 0, 0, 0.15);\n",
              "      filter: drop-shadow(0px 1px 2px rgba(0, 0, 0, 0.3));\n",
              "      fill: #FFFFFF;\n",
              "    }\n",
              "  </style>\n",
              "\n",
              "    <script>\n",
              "      const buttonEl =\n",
              "        document.querySelector('#df-76ccd65d-b485-4188-a86d-0385b95cefe3 button.colab-df-convert');\n",
              "      buttonEl.style.display =\n",
              "        google.colab.kernel.accessAllowed ? 'block' : 'none';\n",
              "\n",
              "      async function convertToInteractive(key) {\n",
              "        const element = document.querySelector('#df-76ccd65d-b485-4188-a86d-0385b95cefe3');\n",
              "        const dataTable =\n",
              "          await google.colab.kernel.invokeFunction('convertToInteractive',\n",
              "                                                    [key], {});\n",
              "        if (!dataTable) return;\n",
              "\n",
              "        const docLinkHtml = 'Like what you see? Visit the ' +\n",
              "          '<a target=\"_blank\" href=https://colab.research.google.com/notebooks/data_table.ipynb>data table notebook</a>'\n",
              "          + ' to learn more about interactive tables.';\n",
              "        element.innerHTML = '';\n",
              "        dataTable['output_type'] = 'display_data';\n",
              "        await google.colab.output.renderOutput(dataTable, element);\n",
              "        const docLink = document.createElement('div');\n",
              "        docLink.innerHTML = docLinkHtml;\n",
              "        element.appendChild(docLink);\n",
              "      }\n",
              "    </script>\n",
              "  </div>\n",
              "\n",
              "\n",
              "<div id=\"df-76638a02-9392-446e-a936-036244509246\">\n",
              "  <button class=\"colab-df-quickchart\" onclick=\"quickchart('df-76638a02-9392-446e-a936-036244509246')\"\n",
              "            title=\"Suggest charts\"\n",
              "            style=\"display:none;\">\n",
              "\n",
              "<svg xmlns=\"http://www.w3.org/2000/svg\" height=\"24px\"viewBox=\"0 0 24 24\"\n",
              "     width=\"24px\">\n",
              "    <g>\n",
              "        <path d=\"M19 3H5c-1.1 0-2 .9-2 2v14c0 1.1.9 2 2 2h14c1.1 0 2-.9 2-2V5c0-1.1-.9-2-2-2zM9 17H7v-7h2v7zm4 0h-2V7h2v10zm4 0h-2v-4h2v4z\"/>\n",
              "    </g>\n",
              "</svg>\n",
              "  </button>\n",
              "\n",
              "<style>\n",
              "  .colab-df-quickchart {\n",
              "      --bg-color: #E8F0FE;\n",
              "      --fill-color: #1967D2;\n",
              "      --hover-bg-color: #E2EBFA;\n",
              "      --hover-fill-color: #174EA6;\n",
              "      --disabled-fill-color: #AAA;\n",
              "      --disabled-bg-color: #DDD;\n",
              "  }\n",
              "\n",
              "  [theme=dark] .colab-df-quickchart {\n",
              "      --bg-color: #3B4455;\n",
              "      --fill-color: #D2E3FC;\n",
              "      --hover-bg-color: #434B5C;\n",
              "      --hover-fill-color: #FFFFFF;\n",
              "      --disabled-bg-color: #3B4455;\n",
              "      --disabled-fill-color: #666;\n",
              "  }\n",
              "\n",
              "  .colab-df-quickchart {\n",
              "    background-color: var(--bg-color);\n",
              "    border: none;\n",
              "    border-radius: 50%;\n",
              "    cursor: pointer;\n",
              "    display: none;\n",
              "    fill: var(--fill-color);\n",
              "    height: 32px;\n",
              "    padding: 0;\n",
              "    width: 32px;\n",
              "  }\n",
              "\n",
              "  .colab-df-quickchart:hover {\n",
              "    background-color: var(--hover-bg-color);\n",
              "    box-shadow: 0 1px 2px rgba(60, 64, 67, 0.3), 0 1px 3px 1px rgba(60, 64, 67, 0.15);\n",
              "    fill: var(--button-hover-fill-color);\n",
              "  }\n",
              "\n",
              "  .colab-df-quickchart-complete:disabled,\n",
              "  .colab-df-quickchart-complete:disabled:hover {\n",
              "    background-color: var(--disabled-bg-color);\n",
              "    fill: var(--disabled-fill-color);\n",
              "    box-shadow: none;\n",
              "  }\n",
              "\n",
              "  .colab-df-spinner {\n",
              "    border: 2px solid var(--fill-color);\n",
              "    border-color: transparent;\n",
              "    border-bottom-color: var(--fill-color);\n",
              "    animation:\n",
              "      spin 1s steps(1) infinite;\n",
              "  }\n",
              "\n",
              "  @keyframes spin {\n",
              "    0% {\n",
              "      border-color: transparent;\n",
              "      border-bottom-color: var(--fill-color);\n",
              "      border-left-color: var(--fill-color);\n",
              "    }\n",
              "    20% {\n",
              "      border-color: transparent;\n",
              "      border-left-color: var(--fill-color);\n",
              "      border-top-color: var(--fill-color);\n",
              "    }\n",
              "    30% {\n",
              "      border-color: transparent;\n",
              "      border-left-color: var(--fill-color);\n",
              "      border-top-color: var(--fill-color);\n",
              "      border-right-color: var(--fill-color);\n",
              "    }\n",
              "    40% {\n",
              "      border-color: transparent;\n",
              "      border-right-color: var(--fill-color);\n",
              "      border-top-color: var(--fill-color);\n",
              "    }\n",
              "    60% {\n",
              "      border-color: transparent;\n",
              "      border-right-color: var(--fill-color);\n",
              "    }\n",
              "    80% {\n",
              "      border-color: transparent;\n",
              "      border-right-color: var(--fill-color);\n",
              "      border-bottom-color: var(--fill-color);\n",
              "    }\n",
              "    90% {\n",
              "      border-color: transparent;\n",
              "      border-bottom-color: var(--fill-color);\n",
              "    }\n",
              "  }\n",
              "</style>\n",
              "\n",
              "  <script>\n",
              "    async function quickchart(key) {\n",
              "      const quickchartButtonEl =\n",
              "        document.querySelector('#' + key + ' button');\n",
              "      quickchartButtonEl.disabled = true;  // To prevent multiple clicks.\n",
              "      quickchartButtonEl.classList.add('colab-df-spinner');\n",
              "      try {\n",
              "        const charts = await google.colab.kernel.invokeFunction(\n",
              "            'suggestCharts', [key], {});\n",
              "      } catch (error) {\n",
              "        console.error('Error during call to suggestCharts:', error);\n",
              "      }\n",
              "      quickchartButtonEl.classList.remove('colab-df-spinner');\n",
              "      quickchartButtonEl.classList.add('colab-df-quickchart-complete');\n",
              "    }\n",
              "    (() => {\n",
              "      let quickchartButtonEl =\n",
              "        document.querySelector('#df-76638a02-9392-446e-a936-036244509246 button');\n",
              "      quickchartButtonEl.style.display =\n",
              "        google.colab.kernel.accessAllowed ? 'block' : 'none';\n",
              "    })();\n",
              "  </script>\n",
              "</div>\n",
              "\n",
              "    </div>\n",
              "  </div>\n"
            ],
            "application/vnd.google.colaboratory.intrinsic+json": {
              "type": "dataframe",
              "variable_name": "samples_decoded",
              "summary": "{\n  \"name\": \"samples_decoded\",\n  \"rows\": 1000,\n  \"fields\": [\n    {\n      \"column\": \"uid\",\n      \"properties\": {\n        \"dtype\": \"float32\",\n        \"num_unique_values\": 1000,\n        \"samples\": [\n          1936.3671875,\n          10207.3251953125,\n          7149.13525390625\n        ],\n        \"semantic_type\": \"\",\n        \"description\": \"\"\n      }\n    },\n    {\n      \"column\": \"user\",\n      \"properties\": {\n        \"dtype\": \"float32\",\n        \"num_unique_values\": 163,\n        \"samples\": [\n          89.49031066894531,\n          2.0,\n          19.08561134338379\n        ],\n        \"semantic_type\": \"\",\n        \"description\": \"\"\n      }\n    },\n    {\n      \"column\": \"gpunum\",\n      \"properties\": {\n        \"dtype\": \"float32\",\n        \"num_unique_values\": 8,\n        \"samples\": [\n          2.0,\n          16.0,\n          1.0\n        ],\n        \"semantic_type\": \"\",\n        \"description\": \"\"\n      }\n    },\n    {\n      \"column\": \"cpunum\",\n      \"properties\": {\n        \"dtype\": \"float32\",\n        \"num_unique_values\": 1,\n        \"samples\": [\n          0.0\n        ],\n        \"semantic_type\": \"\",\n        \"description\": \"\"\n      }\n    },\n    {\n      \"column\": \"nodenum\",\n      \"properties\": {\n        \"dtype\": \"float32\",\n        \"num_unique_values\": 3,\n        \"samples\": [\n          1.0\n        ],\n        \"semantic_type\": \"\",\n        \"description\": \"\"\n      }\n    },\n    {\n      \"column\": \"interval\",\n      \"properties\": {\n        \"dtype\": \"float32\",\n        \"num_unique_values\": 277,\n        \"samples\": [\n          115.9247817993164\n        ],\n        \"semantic_type\": \"\",\n        \"description\": \"\"\n      }\n    },\n    {\n      \"column\": \"runtime\",\n      \"properties\": {\n        \"dtype\": \"float32\",\n        \"num_unique_values\": 761,\n        \"samples\": [\n          40782.625\n        ],\n        \"semantic_type\": \"\",\n        \"description\": \"\"\n      }\n    },\n    {\n      \"column\": \"walltime\",\n      \"properties\": {\n        \"dtype\": \"float32\",\n        \"num_unique_values\": 1,\n        \"samples\": [\n          0.0\n        ],\n        \"semantic_type\": \"\",\n        \"description\": \"\"\n      }\n    }\n  ]\n}"
            }
          },
          "metadata": {},
          "execution_count": 86
        }
      ],
      "source": [
        "samples_decoded.head(10)"
      ]
    },
    {
      "cell_type": "code",
      "source": [
        "samples_decoded.to_csv(\"philly_syn_findiff.csv\", index=False)"
      ],
      "metadata": {
        "id": "tQdKcAI8FuP9"
      },
      "execution_count": null,
      "outputs": []
    },
    {
      "cell_type": "code",
      "source": [
        "# prompt: download the the .csv file\n",
        "\n",
        "from google.colab import files\n",
        "\n",
        "files.download(\"philly_syn_findiff.csv\")\n"
      ],
      "metadata": {
        "id": "HkTesRmUGAJi"
      },
      "execution_count": null,
      "outputs": []
    },
    {
      "cell_type": "markdown",
      "metadata": {
        "id": "KPc64ZZa-uA2"
      },
      "source": [
        "## Evaluate the Generated Data"
      ]
    },
    {
      "cell_type": "code",
      "execution_count": null,
      "metadata": {
        "colab": {
          "base_uri": "https://localhost:8080/"
        },
        "id": "NNUmAman-uA2",
        "outputId": "1b28f4c4-33b3-4868-a2c8-e8e0cdc44b07"
      },
      "outputs": [
        {
          "output_type": "stream",
          "name": "stdout",
          "text": [
            "Generating report ...\n",
            "(1/2) Evaluating Column Shapes: : 100%|██████████| 8/8 [00:00<00:00, 308.38it/s]\n",
            "(2/2) Evaluating Column Pair Trends: : 100%|██████████| 28/28 [00:01<00:00, 27.55it/s]\n",
            "\n",
            "Overall Score: 55.23%\n",
            "\n",
            "Properties:\n",
            "- Column Shapes: 97.24%\n",
            "- Column Pair Trends: 13.22%\n"
          ]
        }
      ],
      "source": [
        "# build a metadata for evaluation (from SDV)\n",
        "metadata = SingleTableMetadata()\n",
        "metadata.detect_from_dataframe(data=train)\n",
        "\n",
        "# generate quality report\n",
        "quality_report = sdv_st.evaluate_quality(\n",
        "    real_data=train,\n",
        "    synthetic_data=samples_decoded,\n",
        "    metadata=metadata\n",
        ")"
      ]
    }
  ],
  "metadata": {
    "kernelspec": {
      "display_name": "Python 3 (ipykernel)",
      "language": "python",
      "name": "python3"
    },
    "language_info": {
      "codemirror_mode": {
        "name": "ipython",
        "version": 3
      },
      "file_extension": ".py",
      "mimetype": "text/x-python",
      "name": "python",
      "nbconvert_exporter": "python",
      "pygments_lexer": "ipython3",
      "version": "3.11.7"
    },
    "colab": {
      "provenance": [],
      "include_colab_link": true
    }
  },
  "nbformat": 4,
  "nbformat_minor": 0
}