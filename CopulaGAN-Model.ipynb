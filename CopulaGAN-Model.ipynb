{
  "nbformat": 4,
  "nbformat_minor": 0,
  "metadata": {
    "colab": {
      "provenance": [],
      "include_colab_link": true
    },
    "kernelspec": {
      "name": "python3",
      "display_name": "Python 3"
    },
    "language_info": {
      "name": "python"
    }
  },
  "cells": [
    {
      "cell_type": "markdown",
      "metadata": {
        "id": "view-in-github",
        "colab_type": "text"
      },
      "source": [
        "<a href=\"https://colab.research.google.com/github/MonishSoundarRaj/data_check_generator/blob/main/CopulaGAN-Model.ipynb\" target=\"_parent\"><img src=\"https://colab.research.google.com/assets/colab-badge.svg\" alt=\"Open In Colab\"/></a>"
      ]
    },
    {
      "cell_type": "code",
      "execution_count": null,
      "metadata": {
        "id": "sBG8LoAaNSRz"
      },
      "outputs": [],
      "source": [
        "!pip install sdv"
      ]
    },
    {
      "cell_type": "code",
      "source": [
        "import pandas as pd\n",
        "import numpy as np\n",
        "from sdv.metadata import SingleTableMetadata\n",
        "from google.colab import files"
      ],
      "metadata": {
        "id": "M550xQZNNkQp"
      },
      "execution_count": null,
      "outputs": []
    },
    {
      "cell_type": "code",
      "source": [
        "df = pd.read_csv(\"FILENAME.csv\")"
      ],
      "metadata": {
        "id": "cpUjLASUNnLC"
      },
      "execution_count": null,
      "outputs": []
    },
    {
      "cell_type": "code",
      "source": [
        "metadata = SingleTableMetadata()"
      ],
      "metadata": {
        "id": "d3Tr-NLUNnWW"
      },
      "execution_count": null,
      "outputs": []
    },
    {
      "cell_type": "code",
      "source": [
        "metadata.detect_from_dataframe(data=df)"
      ],
      "metadata": {
        "id": "nhi92V34OFRC"
      },
      "execution_count": null,
      "outputs": []
    },
    {
      "cell_type": "code",
      "source": [
        "from sdv.single_table import CopulaGANSynthesizer\n",
        "\n",
        "synthesizer = CopulaGANSynthesizer(\n",
        "    metadata, # required\n",
        "    enforce_min_max_values=True,\n",
        "    enforce_rounding=False,\n",
        "    numerical_distributions={\n",
        "        'user': 'gaussian_kde',\n",
        "        'project': 'gaussian_kde',\n",
        "    },\n",
        "    epochs=100,\n",
        "    verbose=True\n",
        ")\n"
      ],
      "metadata": {
        "id": "EPQKTycPOxdI"
      },
      "execution_count": null,
      "outputs": []
    },
    {
      "cell_type": "code",
      "source": [
        "# Train the synthesizer on the first 13,000 rows of your dataframe, change the .head() value as needed.\n",
        "synthesizer.fit(df.head(13000))\n",
        "\n",
        "# Generate 10,000 rows of synthetic data using the trained model, change num_rows value as needed.\n",
        "synthetic_data = synthesizer.sample(num_rows=10000)"
      ],
      "metadata": {
        "id": "kt_EBUq8Y1KX"
      },
      "execution_count": null,
      "outputs": []
    },
    {
      "cell_type": "code",
      "source": [
        "synthetic_data.head(10)"
      ],
      "metadata": {
        "id": "OsSsV4HwWw3d"
      },
      "execution_count": null,
      "outputs": []
    },
    {
      "cell_type": "code",
      "source": [
        "synthetic_data.to_csv(\"synthetic_data_cg.csv\")"
      ],
      "metadata": {
        "colab": {
          "base_uri": "https://localhost:8080/",
          "height": 17
        },
        "id": "fRi5CssPRPWc",
        "outputId": "6ef45faa-de6f-4cea-f853-8a20b5411bff"
      },
      "execution_count": null,
      "outputs": [
        {
          "output_type": "display_data",
          "data": {
            "text/plain": [
              "<IPython.core.display.Javascript object>"
            ],
            "application/javascript": [
              "\n",
              "    async function download(id, filename, size) {\n",
              "      if (!google.colab.kernel.accessAllowed) {\n",
              "        return;\n",
              "      }\n",
              "      const div = document.createElement('div');\n",
              "      const label = document.createElement('label');\n",
              "      label.textContent = `Downloading \"${filename}\": `;\n",
              "      div.appendChild(label);\n",
              "      const progress = document.createElement('progress');\n",
              "      progress.max = size;\n",
              "      div.appendChild(progress);\n",
              "      document.body.appendChild(div);\n",
              "\n",
              "      const buffers = [];\n",
              "      let downloaded = 0;\n",
              "\n",
              "      const channel = await google.colab.kernel.comms.open(id);\n",
              "      // Send a message to notify the kernel that we're ready.\n",
              "      channel.send({})\n",
              "\n",
              "      for await (const message of channel.messages) {\n",
              "        // Send a message to notify the kernel that we're ready.\n",
              "        channel.send({})\n",
              "        if (message.buffers) {\n",
              "          for (const buffer of message.buffers) {\n",
              "            buffers.push(buffer);\n",
              "            downloaded += buffer.byteLength;\n",
              "            progress.value = downloaded;\n",
              "          }\n",
              "        }\n",
              "      }\n",
              "      const blob = new Blob(buffers, {type: 'application/binary'});\n",
              "      const a = document.createElement('a');\n",
              "      a.href = window.URL.createObjectURL(blob);\n",
              "      a.download = filename;\n",
              "      div.appendChild(a);\n",
              "      a.click();\n",
              "      div.remove();\n",
              "    }\n",
              "  "
            ]
          },
          "metadata": {}
        },
        {
          "output_type": "display_data",
          "data": {
            "text/plain": [
              "<IPython.core.display.Javascript object>"
            ],
            "application/javascript": [
              "download(\"download_1f10d6b4-9e87-4b16-b1dc-3cf2c6119de4\", \"syn_ctgan_theta.csv\", 1526285)"
            ]
          },
          "metadata": {}
        }
      ]
    },
    {
      "cell_type": "code",
      "source": [
        "# commit out the following line to stop the autodownload of generated data\n",
        "files.download(\"synthetic_data_cg.csv\")"
      ],
      "metadata": {
        "id": "YgxlaA6oVuiD"
      },
      "execution_count": null,
      "outputs": []
    },
    {
      "cell_type": "code",
      "source": [
        "synthesizer.save(\n",
        "    filepath='copulagan_synthesizer.pkl'\n",
        ")"
      ],
      "metadata": {
        "id": "HpNd9NTWbgAr"
      },
      "execution_count": null,
      "outputs": []
    }
  ]
}